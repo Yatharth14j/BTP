{
 "cells": [
  {
   "cell_type": "code",
   "execution_count": 9,
   "id": "ec1ce9a1-5afd-40f5-acb0-7e48eae7a6f7",
   "metadata": {},
   "outputs": [],
   "source": [
    "import matplotlib.pyplot as plt\n",
    "def extract_frame(img_rgb,template):\n",
    "  \n",
    "    desired_width = 1625\n",
    "    desired_height = 911\n",
    "    img_rgb = cv2.resize(img_rgb, (desired_width,desired_height))\n",
    "    \n",
    "    assert img_rgb is not None, \"file could not be read, check with os.path.exists()\"\n",
    "    img_gray = cv2.cvtColor(img_rgb, cv2.COLOR_BGR2GRAY)\n",
    "    #plt.imshow(cv.cvtColor(template, cv.COLOR_BGR2RGB))\n",
    "    \n",
    "    assert template is not None, \"file could not be read, check with os.path.exists()\"\n",
    "    w, h = template.shape[::-1]\n",
    "    res = cv2.matchTemplate(img_gray,template,cv2.TM_CCOEFF_NORMED)\n",
    "    threshold = 0.5\n",
    "    loc = np.where( res >= threshold)\n",
    "\n",
    "     # Plot rectangles around matched regions\n",
    "    #for pt in zip(*loc[::-1]):\n",
    "     #   x, y = pt\n",
    "      #  cv2.rectangle(img_rgb, (x, y), (x + w, y + h), (0, 255, 0), 2)\n",
    "    \n",
    "    # Display the image with rectangles around matched regions\n",
    "    #plt.imshow(cv2.cvtColor(img_rgb, cv2.COLOR_BGR2RGB))\n",
    "    #plt.title(\"Template Matches\")\n",
    "    #plt.show()\n",
    "    \n",
    "    #print(\"Length of loc[0]:\", len(loc[0]))\n",
    "    #print(\"Length of loc[1]:\", len(loc[1]))\n",
    "\n",
    "    return len(loc[0]) > 0"
   ]
  },
  {
   "cell_type": "code",
   "execution_count": 10,
   "id": "b35845b0-1e89-4e62-808b-dde34941f80b",
   "metadata": {},
   "outputs": [],
   "source": [
    "def extract_clip(input_video_path, output_video_path, start_time, end_time):\n",
    "    print(input_video_path)\n",
    "    print(output_video_path)\n",
    "    print(start_time)\n",
    "    print(end_time)\n",
    "    # Create a VideoFileClip object for the input video\n",
    "    video_clip = VideoFileClip(input_video_path)\n",
    "\n",
    "    # Extract the subclip between start_time and end_time\n",
    "    clip = video_clip.subclip(start_time, end_time)\n",
    "\n",
    "    # Write the clip to the output video file\n",
    "    clip.write_videofile(output_video_path)\n",
    "\n",
    "    # Close the VideoFileClip object\n",
    "    video_clip.close()"
   ]
  },
  {
   "cell_type": "code",
   "execution_count": null,
   "id": "43925b5f-fd1b-4685-b72d-cf1c9f1dcf27",
   "metadata": {},
   "outputs": [],
   "source": []
  }
 ],
 "metadata": {
  "kernelspec": {
   "display_name": "Python 3 (ipykernel)",
   "language": "python",
   "name": "python3"
  },
  "language_info": {
   "codemirror_mode": {
    "name": "ipython",
    "version": 3
   },
   "file_extension": ".py",
   "mimetype": "text/x-python",
   "name": "python",
   "nbconvert_exporter": "python",
   "pygments_lexer": "ipython3",
   "version": "3.12.2"
  }
 },
 "nbformat": 4,
 "nbformat_minor": 5
}
