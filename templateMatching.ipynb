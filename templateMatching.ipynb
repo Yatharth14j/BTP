{
 "cells": [
  {
   "cell_type": "code",
   "execution_count": 2,
   "id": "fb11f242-322f-4b5d-8e1c-db9a5e3e6857",
   "metadata": {},
   "outputs": [],
   "source": [
    "import csv\n",
    "import cv2\n",
    "import pytesseract \n",
    "from pytesseract import image_to_string\n",
    "import pandas as pd\n",
    "import re\n",
    "import os\n",
    "import numpy as np\n",
    "from moviepy.video.io.VideoFileClip import VideoFileClip\n",
    "from matplotlib import pyplot as plt\n",
    "import matplotlib.pyplot as plt\n",
    "pytesseract.pytesseract.tesseract_cmd = r'C:\\Program Files\\Tesseract-OCR\\tesseract.exe'\n",
    "%run helper-extractingVideos.ipynb"
   ]
  },
  {
   "cell_type": "code",
   "execution_count": 3,
   "id": "a00fbbe9-e153-4c28-8ea1-59c9f1fc18ee",
   "metadata": {},
   "outputs": [],
   "source": [
    "def extract_from_video(filePath,videoName,template,templateRes):\n",
    "        # Open the video using OpenCV\n",
    "    \n",
    "    desired_width = 1631\n",
    "    desired_height = 907\n",
    "    cap = cv2.VideoCapture(filePath)\n",
    "    #,apiPreference=cv2.CAP_ANY,params=[\n",
    "    #cv2.CAP_PROP_FRAME_WIDTH,desired_width ,\n",
    "    #cv2.CAP_PROP_FRAME_HEIGHT, desired_height])\n",
    "    \n",
    "    #cap.set(cv2.CAP_PROP_FRAME_WIDTH, desired_width)\n",
    "    #cap.set(cv2.CAP_PROP_FRAME_HEIGHT, desired_height)\n",
    "    fps=cap.get(cv2.CAP_PROP_FPS)\n",
    "    print(\"FPS:\",fps)\n",
    "    minToSkip=11\n",
    "    framesToSkip=fps*60*minToSkip\n",
    "    framesToSkipEverySec=fps-1\n",
    "    currentFrame=0\n",
    "    currentFrameInSec=0\n",
    "    jumpStarted=False\n",
    "    sno=1\n",
    "    row={}#changed\n",
    "\n",
    "    # Initialize a list to store the scores\n",
    "\n",
    "    print(\"start\")\n",
    "\n",
    "    oldText=\"old\"\n",
    "    # Process each frame of the video\n",
    "    while True:\n",
    "        # Read the next frame\n",
    "        ret, frame = cap.read()\n",
    "        currentFrame+=1\n",
    "        currentFrameInSec+=1\n",
    "        if currentFrame<framesToSkip :\n",
    "            if currentFrame%(fps*60)==0:\n",
    "                print(currentFrame//(fps*60) ,\" min(s) Skipped\")\n",
    "            continue\n",
    "        if currentFrame//(fps*60)<minToSkip:\n",
    "            continue\n",
    "        if currentFrameInSec<framesToSkipEverySec:\n",
    "            continue\n",
    "\n",
    "\n",
    "\n",
    "        # Break the loop if the video has ended\n",
    "        if not ret:\n",
    "            print(\"completed\")\n",
    "            break\n",
    "\n",
    "        current_pos = cap.get(cv2.CAP_PROP_POS_MSEC)\n",
    "        total_seconds = int(current_pos // 1000)\n",
    "        minutes = total_seconds // 60\n",
    "        seconds = total_seconds % 60\n",
    "        timeInVideo =f\"{minutes} minutes and {seconds} seconds\"\n",
    "        # Convert the frame to grayscale\n",
    "        gray = cv2.cvtColor(frame, cv2.COLOR_BGR2GRAY)\n",
    "\n",
    "        text = image_to_string(gray,lang=\"eng\")   \n",
    "\n",
    "        words = text.lower().split()  # split the text into a list of words\n",
    "        filtered_words = [word for word in words if (word != 'olympic' and word != 'olympic' and word!='2020' and word!='202' and word!='tokyo' and word!='tokyo2020' and word!=\"tok\" and word!=\"toky\") ]  # use list comprehension to remove the word \"hello\"\n",
    "        text = ' '.join(filtered_words)  # join the remaining words back into a string\n",
    "    \n",
    "        \n",
    "        if not jumpStarted and 'attempt' in text.lower(): #and extract_frame(frame,template):\n",
    "            jumpStarted = True\n",
    "            row['Time'] = timeInVideo\n",
    "            print(timeInVideo,\" jump started\")\n",
    "            if 'Time' in row:  # Check if 'Time' key exists in row\n",
    "                # Extract minutes and seconds from time duration string                    time_str = row['Time']\n",
    "                time_str = row['Time']\n",
    "                minutes_str, seconds_str = re.match(r'(\\d+) minutes and (\\d+) seconds', time_str).groups()\n",
    "                # Convert minutes and seconds to integers\n",
    "                minutes = int(minutes_str)\n",
    "                seconds = int(seconds_str)\n",
    "                # Calculate total seconds\n",
    "                totalSeconds = minutes * 60 + seconds            \n",
    "\n",
    "      \n",
    "        if jumpStarted and 'attempt' not in text.lower() and ('1.84' in text.lower() or '1.84m' in text.lower() ): #and extract_frame(frame,templateRes):\n",
    "            jumpStarted = False\n",
    "            print(timeInVideo,\" jump scores announced\")\n",
    "            #plt.imshow(cv2.cvtColor(cropped, cv2.COLOR_BGR2RGB))\n",
    "            extract_clip(filePath,'ExtractedVideos/'+str(sno)+'_'+videoName+'.mp4',totalSeconds,int(total_seconds))\n",
    "            sno+=1                #print(text)\n",
    "            print(row)\n",
    "                #save_data(row,\"scores\")\n",
    "\n",
    "        \n",
    "\n",
    "        currentFrameInSec=0    \n",
    "    cap.release()"
   ]
  },
  {
   "cell_type": "code",
   "execution_count": null,
   "id": "77810f3b-e969-44b7-bb85-3d3bc043af93",
   "metadata": {},
   "outputs": [
    {
     "name": "stdout",
     "output_type": "stream",
     "text": [
      "FPS: 29.97002997002997\n",
      "start\n",
      "11 minutes and 12 seconds  jump started\n",
      "11 minutes and 33 seconds  jump scores announced\n",
      "video/Women's_High_Jump_Final_Tokyo_Replays.mp4\n",
      "ExtractedVideos/1_Women's_High_Jump_Final_Tokyo_Replays.mp4\n",
      "672\n",
      "693\n",
      "Moviepy - Building video ExtractedVideos/1_Women's_High_Jump_Final_Tokyo_Replays.mp4.\n",
      "MoviePy - Writing audio in 1_Women's_High_Jump_Final_Tokyo_ReplaysTEMP_MPY_wvf_snd.mp3\n"
     ]
    },
    {
     "name": "stderr",
     "output_type": "stream",
     "text": [
      "                                                                                                                       \r"
     ]
    },
    {
     "name": "stdout",
     "output_type": "stream",
     "text": [
      "MoviePy - Done.\n",
      "Moviepy - Writing video ExtractedVideos/1_Women's_High_Jump_Final_Tokyo_Replays.mp4\n",
      "\n"
     ]
    },
    {
     "name": "stderr",
     "output_type": "stream",
     "text": [
      "                                                                                                                       \r"
     ]
    },
    {
     "name": "stdout",
     "output_type": "stream",
     "text": [
      "Moviepy - Done !\n",
      "Moviepy - video ready ExtractedVideos/1_Women's_High_Jump_Final_Tokyo_Replays.mp4\n",
      "{'Time': '11 minutes and 12 seconds'}\n",
      "11 minutes and 49 seconds  jump started\n",
      "12 minutes and 26 seconds  jump scores announced\n",
      "video/Women's_High_Jump_Final_Tokyo_Replays.mp4\n",
      "ExtractedVideos/2_Women's_High_Jump_Final_Tokyo_Replays.mp4\n",
      "709\n",
      "746\n",
      "Moviepy - Building video ExtractedVideos/2_Women's_High_Jump_Final_Tokyo_Replays.mp4.\n",
      "MoviePy - Writing audio in 2_Women's_High_Jump_Final_Tokyo_ReplaysTEMP_MPY_wvf_snd.mp3\n"
     ]
    },
    {
     "name": "stderr",
     "output_type": "stream",
     "text": [
      "                                                                                                                       \r"
     ]
    },
    {
     "name": "stdout",
     "output_type": "stream",
     "text": [
      "MoviePy - Done.\n",
      "Moviepy - Writing video ExtractedVideos/2_Women's_High_Jump_Final_Tokyo_Replays.mp4\n",
      "\n"
     ]
    },
    {
     "name": "stderr",
     "output_type": "stream",
     "text": [
      "                                                                                                                       \r"
     ]
    },
    {
     "name": "stdout",
     "output_type": "stream",
     "text": [
      "Moviepy - Done !\n",
      "Moviepy - video ready ExtractedVideos/2_Women's_High_Jump_Final_Tokyo_Replays.mp4\n",
      "{'Time': '11 minutes and 49 seconds'}\n",
      "12 minutes and 34 seconds  jump started\n",
      "13 minutes and 56 seconds  jump scores announced\n",
      "video/Women's_High_Jump_Final_Tokyo_Replays.mp4\n",
      "ExtractedVideos/3_Women's_High_Jump_Final_Tokyo_Replays.mp4\n",
      "754\n",
      "836\n",
      "Moviepy - Building video ExtractedVideos/3_Women's_High_Jump_Final_Tokyo_Replays.mp4.\n",
      "MoviePy - Writing audio in 3_Women's_High_Jump_Final_Tokyo_ReplaysTEMP_MPY_wvf_snd.mp3\n"
     ]
    },
    {
     "name": "stderr",
     "output_type": "stream",
     "text": [
      "                                                                                                                       \r"
     ]
    },
    {
     "name": "stdout",
     "output_type": "stream",
     "text": [
      "MoviePy - Done.\n",
      "Moviepy - Writing video ExtractedVideos/3_Women's_High_Jump_Final_Tokyo_Replays.mp4\n",
      "\n"
     ]
    },
    {
     "name": "stderr",
     "output_type": "stream",
     "text": [
      "                                                                                                                       \r"
     ]
    },
    {
     "name": "stdout",
     "output_type": "stream",
     "text": [
      "Moviepy - Done !\n",
      "Moviepy - video ready ExtractedVideos/3_Women's_High_Jump_Final_Tokyo_Replays.mp4\n",
      "{'Time': '12 minutes and 34 seconds'}\n",
      "14 minutes and 6 seconds  jump started\n",
      "14 minutes and 37 seconds  jump scores announced\n",
      "video/Women's_High_Jump_Final_Tokyo_Replays.mp4\n",
      "ExtractedVideos/4_Women's_High_Jump_Final_Tokyo_Replays.mp4\n",
      "846\n",
      "877\n",
      "Moviepy - Building video ExtractedVideos/4_Women's_High_Jump_Final_Tokyo_Replays.mp4.\n",
      "MoviePy - Writing audio in 4_Women's_High_Jump_Final_Tokyo_ReplaysTEMP_MPY_wvf_snd.mp3\n"
     ]
    },
    {
     "name": "stderr",
     "output_type": "stream",
     "text": [
      "                                                                                                                       \r"
     ]
    },
    {
     "name": "stdout",
     "output_type": "stream",
     "text": [
      "MoviePy - Done.\n",
      "Moviepy - Writing video ExtractedVideos/4_Women's_High_Jump_Final_Tokyo_Replays.mp4\n",
      "\n"
     ]
    },
    {
     "name": "stderr",
     "output_type": "stream",
     "text": [
      "                                                                                                                       \r"
     ]
    },
    {
     "name": "stdout",
     "output_type": "stream",
     "text": [
      "Moviepy - Done !\n",
      "Moviepy - video ready ExtractedVideos/4_Women's_High_Jump_Final_Tokyo_Replays.mp4\n",
      "{'Time': '14 minutes and 6 seconds'}\n",
      "14 minutes and 50 seconds  jump started\n",
      "15 minutes and 12 seconds  jump scores announced\n",
      "video/Women's_High_Jump_Final_Tokyo_Replays.mp4\n",
      "ExtractedVideos/5_Women's_High_Jump_Final_Tokyo_Replays.mp4\n",
      "890\n",
      "912\n",
      "Moviepy - Building video ExtractedVideos/5_Women's_High_Jump_Final_Tokyo_Replays.mp4.\n",
      "MoviePy - Writing audio in 5_Women's_High_Jump_Final_Tokyo_ReplaysTEMP_MPY_wvf_snd.mp3\n"
     ]
    },
    {
     "name": "stderr",
     "output_type": "stream",
     "text": [
      "                                                                                                                       \r"
     ]
    },
    {
     "name": "stdout",
     "output_type": "stream",
     "text": [
      "MoviePy - Done.\n",
      "Moviepy - Writing video ExtractedVideos/5_Women's_High_Jump_Final_Tokyo_Replays.mp4\n",
      "\n"
     ]
    },
    {
     "name": "stderr",
     "output_type": "stream",
     "text": [
      "                                                                                                                       \r"
     ]
    },
    {
     "name": "stdout",
     "output_type": "stream",
     "text": [
      "Moviepy - Done !\n",
      "Moviepy - video ready ExtractedVideos/5_Women's_High_Jump_Final_Tokyo_Replays.mp4\n",
      "{'Time': '14 minutes and 50 seconds'}\n",
      "15 minutes and 20 seconds  jump started\n",
      "16 minutes and 36 seconds  jump scores announced\n",
      "video/Women's_High_Jump_Final_Tokyo_Replays.mp4\n",
      "ExtractedVideos/6_Women's_High_Jump_Final_Tokyo_Replays.mp4\n",
      "920\n",
      "996\n",
      "Moviepy - Building video ExtractedVideos/6_Women's_High_Jump_Final_Tokyo_Replays.mp4.\n",
      "MoviePy - Writing audio in 6_Women's_High_Jump_Final_Tokyo_ReplaysTEMP_MPY_wvf_snd.mp3\n"
     ]
    },
    {
     "name": "stderr",
     "output_type": "stream",
     "text": [
      "                                                                                                                       \r"
     ]
    },
    {
     "name": "stdout",
     "output_type": "stream",
     "text": [
      "MoviePy - Done.\n",
      "Moviepy - Writing video ExtractedVideos/6_Women's_High_Jump_Final_Tokyo_Replays.mp4\n",
      "\n"
     ]
    },
    {
     "name": "stderr",
     "output_type": "stream",
     "text": [
      "                                                                                                                       \r"
     ]
    },
    {
     "name": "stdout",
     "output_type": "stream",
     "text": [
      "Moviepy - Done !\n",
      "Moviepy - video ready ExtractedVideos/6_Women's_High_Jump_Final_Tokyo_Replays.mp4\n",
      "{'Time': '15 minutes and 20 seconds'}\n",
      "16 minutes and 50 seconds  jump started\n",
      "16 minutes and 52 seconds  jump scores announced\n",
      "video/Women's_High_Jump_Final_Tokyo_Replays.mp4\n",
      "ExtractedVideos/7_Women's_High_Jump_Final_Tokyo_Replays.mp4\n",
      "1010\n",
      "1012\n",
      "Moviepy - Building video ExtractedVideos/7_Women's_High_Jump_Final_Tokyo_Replays.mp4.\n",
      "MoviePy - Writing audio in 7_Women's_High_Jump_Final_Tokyo_ReplaysTEMP_MPY_wvf_snd.mp3\n"
     ]
    },
    {
     "name": "stderr",
     "output_type": "stream",
     "text": [
      "                                                                                                                       \r"
     ]
    },
    {
     "name": "stdout",
     "output_type": "stream",
     "text": [
      "MoviePy - Done.\n",
      "Moviepy - Writing video ExtractedVideos/7_Women's_High_Jump_Final_Tokyo_Replays.mp4\n",
      "\n"
     ]
    },
    {
     "name": "stderr",
     "output_type": "stream",
     "text": [
      "                                                                                                                       \r"
     ]
    },
    {
     "name": "stdout",
     "output_type": "stream",
     "text": [
      "Moviepy - Done !\n",
      "Moviepy - video ready ExtractedVideos/7_Women's_High_Jump_Final_Tokyo_Replays.mp4\n",
      "{'Time': '16 minutes and 50 seconds'}\n",
      "16 minutes and 53 seconds  jump started\n",
      "17 minutes and 23 seconds  jump scores announced\n",
      "video/Women's_High_Jump_Final_Tokyo_Replays.mp4\n",
      "ExtractedVideos/8_Women's_High_Jump_Final_Tokyo_Replays.mp4\n",
      "1013\n",
      "1043\n",
      "Moviepy - Building video ExtractedVideos/8_Women's_High_Jump_Final_Tokyo_Replays.mp4.\n",
      "MoviePy - Writing audio in 8_Women's_High_Jump_Final_Tokyo_ReplaysTEMP_MPY_wvf_snd.mp3\n"
     ]
    },
    {
     "name": "stderr",
     "output_type": "stream",
     "text": [
      "                                                                                                                       \r"
     ]
    },
    {
     "name": "stdout",
     "output_type": "stream",
     "text": [
      "MoviePy - Done.\n",
      "Moviepy - Writing video ExtractedVideos/8_Women's_High_Jump_Final_Tokyo_Replays.mp4\n",
      "\n"
     ]
    },
    {
     "name": "stderr",
     "output_type": "stream",
     "text": [
      "                                                                                                                       \r"
     ]
    },
    {
     "name": "stdout",
     "output_type": "stream",
     "text": [
      "Moviepy - Done !\n",
      "Moviepy - video ready ExtractedVideos/8_Women's_High_Jump_Final_Tokyo_Replays.mp4\n",
      "{'Time': '16 minutes and 53 seconds'}\n",
      "17 minutes and 33 seconds  jump started\n",
      "18 minutes and 8 seconds  jump scores announced\n",
      "video/Women's_High_Jump_Final_Tokyo_Replays.mp4\n",
      "ExtractedVideos/9_Women's_High_Jump_Final_Tokyo_Replays.mp4\n",
      "1053\n",
      "1088\n",
      "Moviepy - Building video ExtractedVideos/9_Women's_High_Jump_Final_Tokyo_Replays.mp4.\n",
      "MoviePy - Writing audio in 9_Women's_High_Jump_Final_Tokyo_ReplaysTEMP_MPY_wvf_snd.mp3\n"
     ]
    },
    {
     "name": "stderr",
     "output_type": "stream",
     "text": [
      "                                                                                                                       \r"
     ]
    },
    {
     "name": "stdout",
     "output_type": "stream",
     "text": [
      "MoviePy - Done.\n",
      "Moviepy - Writing video ExtractedVideos/9_Women's_High_Jump_Final_Tokyo_Replays.mp4\n",
      "\n"
     ]
    },
    {
     "name": "stderr",
     "output_type": "stream",
     "text": [
      "                                                                                                                       \r"
     ]
    },
    {
     "name": "stdout",
     "output_type": "stream",
     "text": [
      "Moviepy - Done !\n",
      "Moviepy - video ready ExtractedVideos/9_Women's_High_Jump_Final_Tokyo_Replays.mp4\n",
      "{'Time': '17 minutes and 33 seconds'}\n"
     ]
    }
   ],
   "source": [
    "templateLondon = cv2.imread('helperImages/template1.jpg', cv2.IMREAD_GRAYSCALE)\n",
    "templateResLondon = cv2.imread('helperImages/template2.jpg', cv2.IMREAD_GRAYSCALE)\n",
    "extract_from_video(\"video/Women's_High_Jump_Final_Tokyo_Replays.mp4\",\"Women's_High_Jump_Final_Tokyo_Replays\",templateLondon,templateResLondon)"
   ]
  },
  {
   "cell_type": "code",
   "execution_count": null,
   "id": "c99e9c59-ef99-4111-9b22-b91c952c79b6",
   "metadata": {},
   "outputs": [],
   "source": []
  }
 ],
 "metadata": {
  "kernelspec": {
   "display_name": "Python 3 (ipykernel)",
   "language": "python",
   "name": "python3"
  },
  "language_info": {
   "codemirror_mode": {
    "name": "ipython",
    "version": 3
   },
   "file_extension": ".py",
   "mimetype": "text/x-python",
   "name": "python",
   "nbconvert_exporter": "python",
   "pygments_lexer": "ipython3",
   "version": "3.12.2"
  }
 },
 "nbformat": 4,
 "nbformat_minor": 5
}
